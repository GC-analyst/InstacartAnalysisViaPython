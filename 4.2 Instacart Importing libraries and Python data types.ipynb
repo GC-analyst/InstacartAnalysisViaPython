{
 "cells": [
  {
   "cell_type": "markdown",
   "id": "6c3eb4f4",
   "metadata": {},
   "source": [
    "# Import Libraries"
   ]
  },
  {
   "cell_type": "code",
   "execution_count": 2,
   "id": "bc507104",
   "metadata": {},
   "outputs": [],
   "source": [
    "# Importing libraries\n",
    "import pandas as pd\n",
    "import numpy as np\n",
    "import os"
   ]
  },
  {
   "cell_type": "markdown",
   "id": "3961f6ac",
   "metadata": {},
   "source": [
    "# Working with Python Data Types"
   ]
  },
  {
   "cell_type": "code",
   "execution_count": 3,
   "id": "d07f4896",
   "metadata": {},
   "outputs": [],
   "source": [
    "a = 50\n",
    "b = 2\n",
    "c = 4"
   ]
  },
  {
   "cell_type": "code",
   "execution_count": 4,
   "id": "2af2f7a5",
   "metadata": {},
   "outputs": [
    {
     "data": {
      "text/plain": [
       "100"
      ]
     },
     "execution_count": 4,
     "metadata": {},
     "output_type": "execute_result"
    }
   ],
   "source": [
    "a * b"
   ]
  },
  {
   "cell_type": "code",
   "execution_count": 6,
   "id": "ef33ac61",
   "metadata": {},
   "outputs": [
    {
     "data": {
      "text/plain": [
       "100.0"
      ]
     },
     "execution_count": 6,
     "metadata": {},
     "output_type": "execute_result"
    }
   ],
   "source": [
    "a / b * 4"
   ]
  },
  {
   "cell_type": "code",
   "execution_count": 7,
   "id": "6b26d0f0",
   "metadata": {},
   "outputs": [
    {
     "data": {
      "text/plain": [
       "100.0"
      ]
     },
     "execution_count": 7,
     "metadata": {},
     "output_type": "execute_result"
    }
   ],
   "source": [
    "c / b * a"
   ]
  },
  {
   "cell_type": "code",
   "execution_count": 9,
   "id": "6920a180",
   "metadata": {},
   "outputs": [],
   "source": [
    "x = 3.15\n",
    "y = 1.53"
   ]
  },
  {
   "cell_type": "code",
   "execution_count": 10,
   "id": "05e700a1",
   "metadata": {},
   "outputs": [
    {
     "data": {
      "text/plain": [
       "2.0588235294117645"
      ]
     },
     "execution_count": 10,
     "metadata": {},
     "output_type": "execute_result"
    }
   ],
   "source": [
    "x / y"
   ]
  },
  {
   "cell_type": "code",
   "execution_count": 11,
   "id": "3c828e0c",
   "metadata": {},
   "outputs": [],
   "source": [
    "l = 'Hi, '\n",
    "m = 'Instructor!'"
   ]
  },
  {
   "cell_type": "code",
   "execution_count": 12,
   "id": "32d914c3",
   "metadata": {},
   "outputs": [
    {
     "data": {
      "text/plain": [
       "'Hi, Instructor!'"
      ]
     },
     "execution_count": 12,
     "metadata": {},
     "output_type": "execute_result"
    }
   ],
   "source": [
    "l + m"
   ]
  },
  {
   "cell_type": "code",
   "execution_count": 13,
   "id": "6518919f",
   "metadata": {},
   "outputs": [],
   "source": [
    "f = 'How '\n",
    "e = 'are '\n",
    "g = 'you?'"
   ]
  },
  {
   "cell_type": "code",
   "execution_count": 14,
   "id": "53f4214d",
   "metadata": {},
   "outputs": [
    {
     "data": {
      "text/plain": [
       "'How are you?'"
      ]
     },
     "execution_count": 14,
     "metadata": {},
     "output_type": "execute_result"
    }
   ],
   "source": [
    "f + e + g"
   ]
  },
  {
   "cell_type": "code",
   "execution_count": 15,
   "id": "b1f88d6e",
   "metadata": {},
   "outputs": [],
   "source": [
    "p = 'turtle'"
   ]
  },
  {
   "cell_type": "code",
   "execution_count": 16,
   "id": "ff800a01",
   "metadata": {},
   "outputs": [
    {
     "data": {
      "text/plain": [
       "'turtleturtleturtleturtleturtleturtleturtleturtleturtleturtleturtleturtleturtleturtleturtleturtleturtleturtleturtleturtleturtleturtleturtleturtleturtleturtleturtleturtleturtleturtleturtleturtleturtleturtleturtleturtleturtleturtleturtleturtleturtleturtleturtleturtleturtleturtleturtleturtleturtleturtleturtleturtleturtleturtleturtleturtleturtleturtleturtleturtleturtleturtleturtleturtleturtleturtleturtleturtleturtleturtleturtleturtleturtleturtleturtleturtleturtleturtleturtleturtleturtleturtleturtleturtleturtleturtleturtleturtleturtleturtleturtleturtleturtleturtleturtleturtleturtleturtleturtleturtle'"
      ]
     },
     "execution_count": 16,
     "metadata": {},
     "output_type": "execute_result"
    }
   ],
   "source": [
    "p * 100"
   ]
  },
  {
   "cell_type": "code",
   "execution_count": null,
   "id": "2bf6450b",
   "metadata": {},
   "outputs": [],
   "source": []
  }
 ],
 "metadata": {
  "kernelspec": {
   "display_name": "Python 3 (ipykernel)",
   "language": "python",
   "name": "python3"
  },
  "language_info": {
   "codemirror_mode": {
    "name": "ipython",
    "version": 3
   },
   "file_extension": ".py",
   "mimetype": "text/x-python",
   "name": "python",
   "nbconvert_exporter": "python",
   "pygments_lexer": "ipython3",
   "version": "3.11.4"
  }
 },
 "nbformat": 4,
 "nbformat_minor": 5
}
