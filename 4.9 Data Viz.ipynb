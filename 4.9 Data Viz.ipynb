{
 "cells": [
  {
   "cell_type": "code",
   "execution_count": 1,
   "id": "28a53532",
   "metadata": {},
   "outputs": [],
   "source": [
    "### Importing Libraries, incl. Data Viz\n",
    "import pandas as pd\n",
    "import numpy as np\n",
    "import os\n",
    "import matplotlib.pyplot as plt\n",
    "import seaborn as sns\n",
    "import scipy"
   ]
  },
  {
   "cell_type": "code",
   "execution_count": 2,
   "id": "8b27884a",
   "metadata": {},
   "outputs": [],
   "source": [
    "# creating data path to '02 Data'\n",
    "datapath = r'/Users/gabrielconfrey/Desktop/Data Analysis/Career Foundry/Achievement 4/082023 Instacart Basket Analysis/02 Data'"
   ]
  },
  {
   "cell_type": "code",
   "execution_count": 3,
   "id": "4d4788ed",
   "metadata": {},
   "outputs": [],
   "source": [
    "# Importing df 48_cleaned from 4.7\n",
    "vizdf = pd.read_pickle(os.path.join(datapath, '2 Prepared Data', '49_flagged.pkl'))"
   ]
  },
  {
   "cell_type": "code",
   "execution_count": 4,
   "id": "d3222052",
   "metadata": {},
   "outputs": [
    {
     "data": {
      "text/html": [
       "<div>\n",
       "<style scoped>\n",
       "    .dataframe tbody tr th:only-of-type {\n",
       "        vertical-align: middle;\n",
       "    }\n",
       "\n",
       "    .dataframe tbody tr th {\n",
       "        vertical-align: top;\n",
       "    }\n",
       "\n",
       "    .dataframe thead th {\n",
       "        text-align: right;\n",
       "    }\n",
       "</style>\n",
       "<table border=\"1\" class=\"dataframe\">\n",
       "  <thead>\n",
       "    <tr style=\"text-align: right;\">\n",
       "      <th></th>\n",
       "      <th>order_id</th>\n",
       "      <th>user_id</th>\n",
       "      <th>order_number</th>\n",
       "      <th>orders_day_of_week</th>\n",
       "      <th>time_of_order</th>\n",
       "      <th>days_since_prior_order</th>\n",
       "      <th>product_id</th>\n",
       "      <th>add_to_cart_order</th>\n",
       "      <th>reordered</th>\n",
       "      <th>Unnamed: 0</th>\n",
       "      <th>...</th>\n",
       "      <th>price_range_loc</th>\n",
       "      <th>traffic_level</th>\n",
       "      <th>traffic_level2</th>\n",
       "      <th>busiest_times</th>\n",
       "      <th>busiest_period_of_day</th>\n",
       "      <th>max_order</th>\n",
       "      <th>loyalty_flag</th>\n",
       "      <th>spending_flag</th>\n",
       "      <th>median_ord_time</th>\n",
       "      <th>prior_order_flag</th>\n",
       "    </tr>\n",
       "  </thead>\n",
       "  <tbody>\n",
       "    <tr>\n",
       "      <th>0</th>\n",
       "      <td>2539329</td>\n",
       "      <td>1</td>\n",
       "      <td>1</td>\n",
       "      <td>2</td>\n",
       "      <td>8</td>\n",
       "      <td>7.0</td>\n",
       "      <td>196</td>\n",
       "      <td>1</td>\n",
       "      <td>0</td>\n",
       "      <td>195</td>\n",
       "      <td>...</td>\n",
       "      <td>Mid-range</td>\n",
       "      <td>Normal</td>\n",
       "      <td>Normal</td>\n",
       "      <td>Average</td>\n",
       "      <td>Average</td>\n",
       "      <td>10</td>\n",
       "      <td>New customer</td>\n",
       "      <td>Low spender</td>\n",
       "      <td>20.0</td>\n",
       "      <td>Regular customer</td>\n",
       "    </tr>\n",
       "    <tr>\n",
       "      <th>1</th>\n",
       "      <td>2398795</td>\n",
       "      <td>1</td>\n",
       "      <td>2</td>\n",
       "      <td>3</td>\n",
       "      <td>7</td>\n",
       "      <td>15.0</td>\n",
       "      <td>196</td>\n",
       "      <td>1</td>\n",
       "      <td>1</td>\n",
       "      <td>195</td>\n",
       "      <td>...</td>\n",
       "      <td>Mid-range</td>\n",
       "      <td>Normal</td>\n",
       "      <td>Least busy</td>\n",
       "      <td>Lowest</td>\n",
       "      <td>Fewest</td>\n",
       "      <td>10</td>\n",
       "      <td>New customer</td>\n",
       "      <td>Low spender</td>\n",
       "      <td>20.0</td>\n",
       "      <td>Regular customer</td>\n",
       "    </tr>\n",
       "    <tr>\n",
       "      <th>2</th>\n",
       "      <td>473747</td>\n",
       "      <td>1</td>\n",
       "      <td>3</td>\n",
       "      <td>3</td>\n",
       "      <td>12</td>\n",
       "      <td>21.0</td>\n",
       "      <td>196</td>\n",
       "      <td>1</td>\n",
       "      <td>1</td>\n",
       "      <td>195</td>\n",
       "      <td>...</td>\n",
       "      <td>Mid-range</td>\n",
       "      <td>Normal</td>\n",
       "      <td>Least busy</td>\n",
       "      <td>Busiest</td>\n",
       "      <td>Most orders</td>\n",
       "      <td>10</td>\n",
       "      <td>New customer</td>\n",
       "      <td>Low spender</td>\n",
       "      <td>20.0</td>\n",
       "      <td>Regular customer</td>\n",
       "    </tr>\n",
       "    <tr>\n",
       "      <th>3</th>\n",
       "      <td>2254736</td>\n",
       "      <td>1</td>\n",
       "      <td>4</td>\n",
       "      <td>4</td>\n",
       "      <td>7</td>\n",
       "      <td>29.0</td>\n",
       "      <td>196</td>\n",
       "      <td>1</td>\n",
       "      <td>1</td>\n",
       "      <td>195</td>\n",
       "      <td>...</td>\n",
       "      <td>Mid-range</td>\n",
       "      <td>Least busy</td>\n",
       "      <td>Least busy</td>\n",
       "      <td>Lowest</td>\n",
       "      <td>Fewest</td>\n",
       "      <td>10</td>\n",
       "      <td>New customer</td>\n",
       "      <td>Low spender</td>\n",
       "      <td>20.0</td>\n",
       "      <td>Regular customer</td>\n",
       "    </tr>\n",
       "    <tr>\n",
       "      <th>4</th>\n",
       "      <td>431534</td>\n",
       "      <td>1</td>\n",
       "      <td>5</td>\n",
       "      <td>4</td>\n",
       "      <td>15</td>\n",
       "      <td>28.0</td>\n",
       "      <td>196</td>\n",
       "      <td>1</td>\n",
       "      <td>1</td>\n",
       "      <td>195</td>\n",
       "      <td>...</td>\n",
       "      <td>Mid-range</td>\n",
       "      <td>Least busy</td>\n",
       "      <td>Least busy</td>\n",
       "      <td>Busiest</td>\n",
       "      <td>Most orders</td>\n",
       "      <td>10</td>\n",
       "      <td>New customer</td>\n",
       "      <td>Low spender</td>\n",
       "      <td>20.0</td>\n",
       "      <td>Regular customer</td>\n",
       "    </tr>\n",
       "  </tbody>\n",
       "</table>\n",
       "<p>5 rows × 24 columns</p>\n",
       "</div>"
      ],
      "text/plain": [
       "   order_id  user_id  order_number  orders_day_of_week  time_of_order  \\\n",
       "0   2539329        1             1                   2              8   \n",
       "1   2398795        1             2                   3              7   \n",
       "2    473747        1             3                   3             12   \n",
       "3   2254736        1             4                   4              7   \n",
       "4    431534        1             5                   4             15   \n",
       "\n",
       "   days_since_prior_order  product_id  add_to_cart_order  reordered  \\\n",
       "0                     7.0         196                  1          0   \n",
       "1                    15.0         196                  1          1   \n",
       "2                    21.0         196                  1          1   \n",
       "3                    29.0         196                  1          1   \n",
       "4                    28.0         196                  1          1   \n",
       "\n",
       "   Unnamed: 0  ... price_range_loc  traffic_level  traffic_level2  \\\n",
       "0         195  ...       Mid-range         Normal          Normal   \n",
       "1         195  ...       Mid-range         Normal      Least busy   \n",
       "2         195  ...       Mid-range         Normal      Least busy   \n",
       "3         195  ...       Mid-range     Least busy      Least busy   \n",
       "4         195  ...       Mid-range     Least busy      Least busy   \n",
       "\n",
       "   busiest_times busiest_period_of_day max_order  loyalty_flag spending_flag  \\\n",
       "0        Average               Average        10  New customer   Low spender   \n",
       "1         Lowest                Fewest        10  New customer   Low spender   \n",
       "2        Busiest           Most orders        10  New customer   Low spender   \n",
       "3         Lowest                Fewest        10  New customer   Low spender   \n",
       "4        Busiest           Most orders        10  New customer   Low spender   \n",
       "\n",
       "  median_ord_time  prior_order_flag  \n",
       "0            20.0  Regular customer  \n",
       "1            20.0  Regular customer  \n",
       "2            20.0  Regular customer  \n",
       "3            20.0  Regular customer  \n",
       "4            20.0  Regular customer  \n",
       "\n",
       "[5 rows x 24 columns]"
      ]
     },
     "execution_count": 4,
     "metadata": {},
     "output_type": "execute_result"
    }
   ],
   "source": [
    "vizdf.head()"
   ]
  },
  {
   "cell_type": "code",
   "execution_count": 5,
   "id": "74717d8b",
   "metadata": {},
   "outputs": [
    {
     "data": {
      "text/plain": [
       "<Axes: xlabel='orders_day_of_week'>"
      ]
     },
     "execution_count": 5,
     "metadata": {},
     "output_type": "execute_result"
    },
    {
     "data": {
      "image/png": "[encoded data removed]",
      "text/plain": [
       "<Figure size 640x480 with 1 Axes>"
      ]
     },
     "metadata": {},
     "output_type": "display_data"
    }
   ],
   "source": [
    "### Creating basic viz for days of week\n",
    "vizdf['orders_day_of_week'].value_counts().plot.bar()"
   ]
  },
  {
   "cell_type": "code",
   "execution_count": 6,
   "id": "990aa8d3",
   "metadata": {},
   "outputs": [
    {
     "data": {
      "text/plain": [
       "orders_day_of_week\n",
       "0    6204182\n",
       "1    5660230\n",
       "6    4496490\n",
       "2    4213830\n",
       "5    4205791\n",
       "3    3840534\n",
       "4    3783802\n",
       "Name: count, dtype: int64"
      ]
     },
     "execution_count": 6,
     "metadata": {},
     "output_type": "execute_result"
    }
   ],
   "source": [
    "### To compare w/o bar function\n",
    "vizdf['orders_day_of_week'].value_counts()"
   ]
  },
  {
   "cell_type": "code",
   "execution_count": 7,
   "id": "356c8a29",
   "metadata": {},
   "outputs": [
    {
     "data": {
      "text/plain": [
       "orders_day_of_week\n",
       "0    6204182\n",
       "1    5660230\n",
       "2    4213830\n",
       "3    3840534\n",
       "4    3783802\n",
       "5    4205791\n",
       "6    4496490\n",
       "Name: count, dtype: int64"
      ]
     },
     "execution_count": 7,
     "metadata": {},
     "output_type": "execute_result"
    }
   ],
   "source": [
    "vizdf['orders_day_of_week'].value_counts().sort_index()"
   ]
  },
  {
   "cell_type": "code",
   "execution_count": 9,
   "id": "922f0699",
   "metadata": {},
   "outputs": [
    {
     "data": {
      "text/plain": [
       "<Axes: xlabel='orders_day_of_week'>"
      ]
     },
     "execution_count": 9,
     "metadata": {},
     "output_type": "execute_result"
    },
    {
     "data": {
      "image/png": "[encoded data removed]",
      "text/plain": [
       "<Figure size 640x480 with 1 Axes>"
      ]
     },
     "metadata": {},
     "output_type": "display_data"
    }
   ],
   "source": [
    "### Creating colored data viz, sorted by day of week\n",
    "vizdf['orders_day_of_week'].value_counts().sort_index().plot.bar(color = ['blue','green','yellow','orange','red','purple'])"
   ]
  },
  {
   "cell_type": "code",
   "execution_count": 10,
   "id": "e38aa58e",
   "metadata": {},
   "outputs": [
    {
     "data": {
      "image/png": "[encoded data removed]",
      "text/plain": [
       "<Figure size 640x480 with 1 Axes>"
      ]
     },
     "metadata": {},
     "output_type": "display_data"
    }
   ],
   "source": [
    "### Naming chart above as 'bar'\n",
    "bar = vizdf['orders_day_of_week'].value_counts().sort_index().plot.bar(color = ['blue','green','yellow','orange','red','purple'])"
   ]
  },
  {
   "cell_type": "code",
   "execution_count": 12,
   "id": "5e152180",
   "metadata": {},
   "outputs": [
    {
     "data": {
      "image/png": "[encoded data removed]",
      "text/plain": [
       "<Figure size 640x480 with 1 Axes>"
      ]
     },
     "execution_count": 12,
     "metadata": {},
     "output_type": "execute_result"
    }
   ],
   "source": [
    "### calling bar, using bar.figure\n",
    "bar.figure"
   ]
  },
  {
   "cell_type": "code",
   "execution_count": 13,
   "id": "907838f2",
   "metadata": {},
   "outputs": [],
   "source": [
    "# creating data path to '080223 Instacart Basket Analysis'\n",
    "basketpath = r'/Users/gabrielconfrey/Desktop/Data Analysis/Career Foundry/Achievement 4/082023 Instacart Basket Analysis'"
   ]
  },
  {
   "cell_type": "code",
   "execution_count": 14,
   "id": "fb5d9d77",
   "metadata": {},
   "outputs": [],
   "source": [
    "bar.figure.savefig(os.path.join(basketpath, '04 Analysis','Visualizations', 'bar_orders_dow.png'))"
   ]
  },
  {
   "cell_type": "code",
   "execution_count": 15,
   "id": "ddafd37b",
   "metadata": {},
   "outputs": [
    {
     "data": {
      "text/plain": [
       "<Axes: ylabel='Frequency'>"
      ]
     },
     "execution_count": 15,
     "metadata": {},
     "output_type": "execute_result"
    },
    {
     "data": {
      "image/png": "[encoded data removed]",
      "text/plain": [
       "<Figure size 640x480 with 1 Axes>"
      ]
     },
     "metadata": {},
     "output_type": "display_data"
    }
   ],
   "source": [
    "### Histogram try\n",
    "vizdf['prices'].plot.hist(bins = 25)"
   ]
  },
  {
   "cell_type": "code",
   "execution_count": 16,
   "id": "1e968510",
   "metadata": {},
   "outputs": [
    {
     "data": {
      "text/plain": [
       "<Axes: xlabel='prices', ylabel='prices'>"
      ]
     },
     "execution_count": 16,
     "metadata": {},
     "output_type": "execute_result"
    },
    {
     "data": {
      "image/png": "[encoded data removed]",
      "text/plain": [
       "<Figure size 640x480 with 1 Axes>"
      ]
     },
     "metadata": {},
     "output_type": "display_data"
    }
   ],
   "source": [
    "### Now for a scatterplot. Note it uses Seaborn.\n",
    "sns.scatterplot(x = 'prices', y = 'prices',data = vizdf)"
   ]
  },
  {
   "cell_type": "code",
   "execution_count": 17,
   "id": "3d523d07",
   "metadata": {},
   "outputs": [
    {
     "data": {
      "text/html": [
       "<div>\n",
       "<style scoped>\n",
       "    .dataframe tbody tr th:only-of-type {\n",
       "        vertical-align: middle;\n",
       "    }\n",
       "\n",
       "    .dataframe tbody tr th {\n",
       "        vertical-align: top;\n",
       "    }\n",
       "\n",
       "    .dataframe thead th {\n",
       "        text-align: right;\n",
       "    }\n",
       "</style>\n",
       "<table border=\"1\" class=\"dataframe\">\n",
       "  <thead>\n",
       "    <tr style=\"text-align: right;\">\n",
       "      <th></th>\n",
       "      <th>order_id</th>\n",
       "      <th>user_id</th>\n",
       "      <th>order_number</th>\n",
       "      <th>orders_day_of_week</th>\n",
       "      <th>time_of_order</th>\n",
       "      <th>days_since_prior_order</th>\n",
       "      <th>product_id</th>\n",
       "      <th>add_to_cart_order</th>\n",
       "      <th>reordered</th>\n",
       "      <th>Unnamed: 0</th>\n",
       "      <th>...</th>\n",
       "      <th>price_range_loc</th>\n",
       "      <th>traffic_level</th>\n",
       "      <th>traffic_level2</th>\n",
       "      <th>busiest_times</th>\n",
       "      <th>busiest_period_of_day</th>\n",
       "      <th>max_order</th>\n",
       "      <th>loyalty_flag</th>\n",
       "      <th>spending_flag</th>\n",
       "      <th>median_ord_time</th>\n",
       "      <th>prior_order_flag</th>\n",
       "    </tr>\n",
       "  </thead>\n",
       "  <tbody>\n",
       "    <tr>\n",
       "      <th>10030345</th>\n",
       "      <td>912404</td>\n",
       "      <td>17</td>\n",
       "      <td>12</td>\n",
       "      <td>2</td>\n",
       "      <td>14</td>\n",
       "      <td>5.0</td>\n",
       "      <td>21553</td>\n",
       "      <td>5</td>\n",
       "      <td>0</td>\n",
       "      <td>21554</td>\n",
       "      <td>...</td>\n",
       "      <td>High-range</td>\n",
       "      <td>Normal</td>\n",
       "      <td>Normal</td>\n",
       "      <td>Busiest</td>\n",
       "      <td>Most orders</td>\n",
       "      <td>40</td>\n",
       "      <td>Regular customer</td>\n",
       "      <td>High spender</td>\n",
       "      <td>5.0</td>\n",
       "      <td>Frequent customer</td>\n",
       "    </tr>\n",
       "    <tr>\n",
       "      <th>10030346</th>\n",
       "      <td>603376</td>\n",
       "      <td>17</td>\n",
       "      <td>22</td>\n",
       "      <td>6</td>\n",
       "      <td>16</td>\n",
       "      <td>4.0</td>\n",
       "      <td>21553</td>\n",
       "      <td>3</td>\n",
       "      <td>1</td>\n",
       "      <td>21554</td>\n",
       "      <td>...</td>\n",
       "      <td>High-range</td>\n",
       "      <td>Normal</td>\n",
       "      <td>Normal</td>\n",
       "      <td>Busiest</td>\n",
       "      <td>Most orders</td>\n",
       "      <td>40</td>\n",
       "      <td>Regular customer</td>\n",
       "      <td>High spender</td>\n",
       "      <td>5.0</td>\n",
       "      <td>Frequent customer</td>\n",
       "    </tr>\n",
       "    <tr>\n",
       "      <th>10030347</th>\n",
       "      <td>3264360</td>\n",
       "      <td>135</td>\n",
       "      <td>2</td>\n",
       "      <td>2</td>\n",
       "      <td>21</td>\n",
       "      <td>13.0</td>\n",
       "      <td>21553</td>\n",
       "      <td>6</td>\n",
       "      <td>0</td>\n",
       "      <td>21554</td>\n",
       "      <td>...</td>\n",
       "      <td>High-range</td>\n",
       "      <td>Normal</td>\n",
       "      <td>Normal</td>\n",
       "      <td>Lowest</td>\n",
       "      <td>Fewest</td>\n",
       "      <td>4</td>\n",
       "      <td>New customer</td>\n",
       "      <td>High spender</td>\n",
       "      <td>11.5</td>\n",
       "      <td>Regular customer</td>\n",
       "    </tr>\n",
       "    <tr>\n",
       "      <th>10030348</th>\n",
       "      <td>892534</td>\n",
       "      <td>135</td>\n",
       "      <td>3</td>\n",
       "      <td>0</td>\n",
       "      <td>8</td>\n",
       "      <td>12.0</td>\n",
       "      <td>21553</td>\n",
       "      <td>3</td>\n",
       "      <td>1</td>\n",
       "      <td>21554</td>\n",
       "      <td>...</td>\n",
       "      <td>High-range</td>\n",
       "      <td>Busiest</td>\n",
       "      <td>Busiest</td>\n",
       "      <td>Average</td>\n",
       "      <td>Average</td>\n",
       "      <td>4</td>\n",
       "      <td>New customer</td>\n",
       "      <td>High spender</td>\n",
       "      <td>11.5</td>\n",
       "      <td>Regular customer</td>\n",
       "    </tr>\n",
       "    <tr>\n",
       "      <th>10030349</th>\n",
       "      <td>229704</td>\n",
       "      <td>342</td>\n",
       "      <td>8</td>\n",
       "      <td>1</td>\n",
       "      <td>19</td>\n",
       "      <td>30.0</td>\n",
       "      <td>21553</td>\n",
       "      <td>9</td>\n",
       "      <td>0</td>\n",
       "      <td>21554</td>\n",
       "      <td>...</td>\n",
       "      <td>High-range</td>\n",
       "      <td>Normal</td>\n",
       "      <td>Busiest</td>\n",
       "      <td>Average</td>\n",
       "      <td>Average</td>\n",
       "      <td>16</td>\n",
       "      <td>Regular customer</td>\n",
       "      <td>High spender</td>\n",
       "      <td>20.0</td>\n",
       "      <td>Regular customer</td>\n",
       "    </tr>\n",
       "    <tr>\n",
       "      <th>...</th>\n",
       "      <td>...</td>\n",
       "      <td>...</td>\n",
       "      <td>...</td>\n",
       "      <td>...</td>\n",
       "      <td>...</td>\n",
       "      <td>...</td>\n",
       "      <td>...</td>\n",
       "      <td>...</td>\n",
       "      <td>...</td>\n",
       "      <td>...</td>\n",
       "      <td>...</td>\n",
       "      <td>...</td>\n",
       "      <td>...</td>\n",
       "      <td>...</td>\n",
       "      <td>...</td>\n",
       "      <td>...</td>\n",
       "      <td>...</td>\n",
       "      <td>...</td>\n",
       "      <td>...</td>\n",
       "      <td>...</td>\n",
       "      <td>...</td>\n",
       "    </tr>\n",
       "    <tr>\n",
       "      <th>29166209</th>\n",
       "      <td>2249946</td>\n",
       "      <td>204099</td>\n",
       "      <td>29</td>\n",
       "      <td>0</td>\n",
       "      <td>8</td>\n",
       "      <td>4.0</td>\n",
       "      <td>33664</td>\n",
       "      <td>1</td>\n",
       "      <td>0</td>\n",
       "      <td>33666</td>\n",
       "      <td>...</td>\n",
       "      <td>High-range</td>\n",
       "      <td>Busiest</td>\n",
       "      <td>Busiest</td>\n",
       "      <td>Average</td>\n",
       "      <td>Average</td>\n",
       "      <td>39</td>\n",
       "      <td>Regular customer</td>\n",
       "      <td>High spender</td>\n",
       "      <td>4.0</td>\n",
       "      <td>Frequent customer</td>\n",
       "    </tr>\n",
       "    <tr>\n",
       "      <th>29166210</th>\n",
       "      <td>2363282</td>\n",
       "      <td>204099</td>\n",
       "      <td>31</td>\n",
       "      <td>0</td>\n",
       "      <td>9</td>\n",
       "      <td>2.0</td>\n",
       "      <td>33664</td>\n",
       "      <td>1</td>\n",
       "      <td>1</td>\n",
       "      <td>33666</td>\n",
       "      <td>...</td>\n",
       "      <td>High-range</td>\n",
       "      <td>Busiest</td>\n",
       "      <td>Busiest</td>\n",
       "      <td>Busiest</td>\n",
       "      <td>Most orders</td>\n",
       "      <td>39</td>\n",
       "      <td>Regular customer</td>\n",
       "      <td>High spender</td>\n",
       "      <td>4.0</td>\n",
       "      <td>Frequent customer</td>\n",
       "    </tr>\n",
       "    <tr>\n",
       "      <th>29166211</th>\n",
       "      <td>3181945</td>\n",
       "      <td>204395</td>\n",
       "      <td>13</td>\n",
       "      <td>3</td>\n",
       "      <td>15</td>\n",
       "      <td>8.0</td>\n",
       "      <td>33664</td>\n",
       "      <td>25</td>\n",
       "      <td>0</td>\n",
       "      <td>33666</td>\n",
       "      <td>...</td>\n",
       "      <td>High-range</td>\n",
       "      <td>Normal</td>\n",
       "      <td>Least busy</td>\n",
       "      <td>Busiest</td>\n",
       "      <td>Most orders</td>\n",
       "      <td>15</td>\n",
       "      <td>Regular customer</td>\n",
       "      <td>High spender</td>\n",
       "      <td>5.0</td>\n",
       "      <td>Frequent customer</td>\n",
       "    </tr>\n",
       "    <tr>\n",
       "      <th>29166212</th>\n",
       "      <td>2486215</td>\n",
       "      <td>205227</td>\n",
       "      <td>7</td>\n",
       "      <td>3</td>\n",
       "      <td>20</td>\n",
       "      <td>4.0</td>\n",
       "      <td>33664</td>\n",
       "      <td>8</td>\n",
       "      <td>0</td>\n",
       "      <td>33666</td>\n",
       "      <td>...</td>\n",
       "      <td>High-range</td>\n",
       "      <td>Normal</td>\n",
       "      <td>Least busy</td>\n",
       "      <td>Lowest</td>\n",
       "      <td>Fewest</td>\n",
       "      <td>12</td>\n",
       "      <td>Regular customer</td>\n",
       "      <td>High spender</td>\n",
       "      <td>7.0</td>\n",
       "      <td>Frequent customer</td>\n",
       "    </tr>\n",
       "    <tr>\n",
       "      <th>29166213</th>\n",
       "      <td>2232716</td>\n",
       "      <td>205227</td>\n",
       "      <td>10</td>\n",
       "      <td>0</td>\n",
       "      <td>11</td>\n",
       "      <td>4.0</td>\n",
       "      <td>33664</td>\n",
       "      <td>23</td>\n",
       "      <td>1</td>\n",
       "      <td>33666</td>\n",
       "      <td>...</td>\n",
       "      <td>High-range</td>\n",
       "      <td>Busiest</td>\n",
       "      <td>Busiest</td>\n",
       "      <td>Busiest</td>\n",
       "      <td>Most orders</td>\n",
       "      <td>12</td>\n",
       "      <td>Regular customer</td>\n",
       "      <td>High spender</td>\n",
       "      <td>7.0</td>\n",
       "      <td>Frequent customer</td>\n",
       "    </tr>\n",
       "  </tbody>\n",
       "</table>\n",
       "<p>5127 rows × 24 columns</p>\n",
       "</div>"
      ],
      "text/plain": [
       "          order_id  user_id  order_number  orders_day_of_week  time_of_order  \\\n",
       "10030345    912404       17            12                   2             14   \n",
       "10030346    603376       17            22                   6             16   \n",
       "10030347   3264360      135             2                   2             21   \n",
       "10030348    892534      135             3                   0              8   \n",
       "10030349    229704      342             8                   1             19   \n",
       "...            ...      ...           ...                 ...            ...   \n",
       "29166209   2249946   204099            29                   0              8   \n",
       "29166210   2363282   204099            31                   0              9   \n",
       "29166211   3181945   204395            13                   3             15   \n",
       "29166212   2486215   205227             7                   3             20   \n",
       "29166213   2232716   205227            10                   0             11   \n",
       "\n",
       "          days_since_prior_order  product_id  add_to_cart_order  reordered  \\\n",
       "10030345                     5.0       21553                  5          0   \n",
       "10030346                     4.0       21553                  3          1   \n",
       "10030347                    13.0       21553                  6          0   \n",
       "10030348                    12.0       21553                  3          1   \n",
       "10030349                    30.0       21553                  9          0   \n",
       "...                          ...         ...                ...        ...   \n",
       "29166209                     4.0       33664                  1          0   \n",
       "29166210                     2.0       33664                  1          1   \n",
       "29166211                     8.0       33664                 25          0   \n",
       "29166212                     4.0       33664                  8          0   \n",
       "29166213                     4.0       33664                 23          1   \n",
       "\n",
       "          Unnamed: 0  ... price_range_loc  traffic_level  traffic_level2  \\\n",
       "10030345       21554  ...      High-range         Normal          Normal   \n",
       "10030346       21554  ...      High-range         Normal          Normal   \n",
       "10030347       21554  ...      High-range         Normal          Normal   \n",
       "10030348       21554  ...      High-range        Busiest         Busiest   \n",
       "10030349       21554  ...      High-range         Normal         Busiest   \n",
       "...              ...  ...             ...            ...             ...   \n",
       "29166209       33666  ...      High-range        Busiest         Busiest   \n",
       "29166210       33666  ...      High-range        Busiest         Busiest   \n",
       "29166211       33666  ...      High-range         Normal      Least busy   \n",
       "29166212       33666  ...      High-range         Normal      Least busy   \n",
       "29166213       33666  ...      High-range        Busiest         Busiest   \n",
       "\n",
       "          busiest_times busiest_period_of_day max_order      loyalty_flag  \\\n",
       "10030345        Busiest           Most orders        40  Regular customer   \n",
       "10030346        Busiest           Most orders        40  Regular customer   \n",
       "10030347         Lowest                Fewest         4      New customer   \n",
       "10030348        Average               Average         4      New customer   \n",
       "10030349        Average               Average        16  Regular customer   \n",
       "...                 ...                   ...       ...               ...   \n",
       "29166209        Average               Average        39  Regular customer   \n",
       "29166210        Busiest           Most orders        39  Regular customer   \n",
       "29166211        Busiest           Most orders        15  Regular customer   \n",
       "29166212         Lowest                Fewest        12  Regular customer   \n",
       "29166213        Busiest           Most orders        12  Regular customer   \n",
       "\n",
       "         spending_flag median_ord_time   prior_order_flag  \n",
       "10030345  High spender             5.0  Frequent customer  \n",
       "10030346  High spender             5.0  Frequent customer  \n",
       "10030347  High spender            11.5   Regular customer  \n",
       "10030348  High spender            11.5   Regular customer  \n",
       "10030349  High spender            20.0   Regular customer  \n",
       "...                ...             ...                ...  \n",
       "29166209  High spender             4.0  Frequent customer  \n",
       "29166210  High spender             4.0  Frequent customer  \n",
       "29166211  High spender             5.0  Frequent customer  \n",
       "29166212  High spender             7.0  Frequent customer  \n",
       "29166213  High spender             7.0  Frequent customer  \n",
       "\n",
       "[5127 rows x 24 columns]"
      ]
     },
     "execution_count": 17,
     "metadata": {},
     "output_type": "execute_result"
    }
   ],
   "source": [
    "### To id clear outliers in the graphs, have to find all entries over a reasonable $ amount\n",
    "vizdf.loc[vizdf['prices'] > 100]"
   ]
  },
  {
   "cell_type": "code",
   "execution_count": 18,
   "id": "3ed655c7",
   "metadata": {},
   "outputs": [],
   "source": [
    "vizdf.loc[vizdf['prices'] >100, 'prices'] = np.nan"
   ]
  },
  {
   "cell_type": "code",
   "execution_count": 19,
   "id": "3facc16b",
   "metadata": {},
   "outputs": [
    {
     "data": {
      "text/plain": [
       "<Axes: xlabel='prices', ylabel='prices'>"
      ]
     },
     "execution_count": 19,
     "metadata": {},
     "output_type": "execute_result"
    },
    {
     "data": {
      "image/png": "[encoded data removed]",
      "text/plain": [
       "<Figure size 640x480 with 1 Axes>"
      ]
     },
     "metadata": {},
     "output_type": "display_data"
    }
   ],
   "source": [
    "### Scatterplot #2:\n",
    "sns.scatterplot(x = 'prices', y = 'prices',data = vizdf)"
   ]
  },
  {
   "cell_type": "code",
   "execution_count": 20,
   "id": "d602db44",
   "metadata": {},
   "outputs": [
    {
     "data": {
      "text/plain": [
       "25.0"
      ]
     },
     "execution_count": 20,
     "metadata": {},
     "output_type": "execute_result"
    }
   ],
   "source": [
    "vizdf['prices'].max()"
   ]
  },
  {
   "cell_type": "code",
   "execution_count": 21,
   "id": "59afb908",
   "metadata": {},
   "outputs": [
    {
     "data": {
      "text/plain": [
       "<Axes: ylabel='Frequency'>"
      ]
     },
     "execution_count": 21,
     "metadata": {},
     "output_type": "execute_result"
    },
    {
     "data": {
      "image/png": "[encoded data removed]",
      "text/plain": [
       "<Figure size 640x480 with 1 Axes>"
      ]
     },
     "metadata": {},
     "output_type": "display_data"
    }
   ],
   "source": [
    "### Histogram try #2\n",
    "vizdf['prices'].plot.hist(bins = 25)"
   ]
  },
  {
   "cell_type": "code",
   "execution_count": 22,
   "id": "e36c6086",
   "metadata": {},
   "outputs": [
    {
     "data": {
      "text/plain": [
       "<Axes: ylabel='Frequency'>"
      ]
     },
     "execution_count": 22,
     "metadata": {},
     "output_type": "execute_result"
    },
    {
     "data": {
      "image/png": "[encoded data removed]",
      "text/plain": [
       "<Figure size 640x480 with 1 Axes>"
      ]
     },
     "metadata": {},
     "output_type": "display_data"
    }
   ],
   "source": [
    "### Increase granularity\n",
    "vizdf['prices'].plot.hist(bins = 100)"
   ]
  },
  {
   "cell_type": "code",
   "execution_count": 23,
   "id": "69d4b182",
   "metadata": {},
   "outputs": [],
   "source": [
    "### Generating random integers to sample the population data\n",
    "np.random.seed(4)\n",
    "samples = np.random.rand(len(vizdf)) <= 0.7"
   ]
  },
  {
   "cell_type": "code",
   "execution_count": 24,
   "id": "1bd3c052",
   "metadata": {},
   "outputs": [
    {
     "data": {
      "text/plain": [
       "array([False,  True, False, ...,  True,  True,  True])"
      ]
     },
     "execution_count": 24,
     "metadata": {},
     "output_type": "execute_result"
    }
   ],
   "source": [
    "samples"
   ]
  },
  {
   "cell_type": "code",
   "execution_count": 26,
   "id": "21dc347a",
   "metadata": {},
   "outputs": [
    {
     "data": {
      "text/plain": [
       "array([0.06557465, 0.85698584, 0.24456371, 0.22683171, 0.17068366,\n",
       "       0.27008946, 0.52534234, 0.83151571, 0.78153402, 0.0164016 ])"
      ]
     },
     "execution_count": 26,
     "metadata": {},
     "output_type": "execute_result"
    }
   ],
   "source": [
    "np.random.rand(10)"
   ]
  },
  {
   "cell_type": "code",
   "execution_count": 29,
   "id": "e33c38d6",
   "metadata": {},
   "outputs": [],
   "source": [
    "### Create new df of only True values in samples\n",
    "big = vizdf[samples]"
   ]
  },
  {
   "cell_type": "code",
   "execution_count": 30,
   "id": "c57ee6f3",
   "metadata": {},
   "outputs": [],
   "source": [
    "### Create new df of only False values in samples\n",
    "small = vizdf[~samples]"
   ]
  },
  {
   "cell_type": "code",
   "execution_count": 31,
   "id": "59884587",
   "metadata": {},
   "outputs": [
    {
     "data": {
      "text/plain": [
       "(22683761, 24)"
      ]
     },
     "execution_count": 31,
     "metadata": {},
     "output_type": "execute_result"
    }
   ],
   "source": [
    "big.shape"
   ]
  },
  {
   "cell_type": "code",
   "execution_count": 32,
   "id": "8e0e39dd",
   "metadata": {},
   "outputs": [
    {
     "data": {
      "text/plain": [
       "(9721098, 24)"
      ]
     },
     "execution_count": 32,
     "metadata": {},
     "output_type": "execute_result"
    }
   ],
   "source": [
    "small.shape"
   ]
  },
  {
   "cell_type": "code",
   "execution_count": 33,
   "id": "f3e91483",
   "metadata": {},
   "outputs": [
    {
     "data": {
      "text/plain": [
       "32404859"
      ]
     },
     "execution_count": 33,
     "metadata": {},
     "output_type": "execute_result"
    }
   ],
   "source": [
    "len(vizdf)"
   ]
  },
  {
   "cell_type": "code",
   "execution_count": 34,
   "id": "5690f201",
   "metadata": {},
   "outputs": [
    {
     "data": {
      "text/plain": [
       "32404859"
      ]
     },
     "execution_count": 34,
     "metadata": {},
     "output_type": "execute_result"
    }
   ],
   "source": [
    "len(big) + len(small)"
   ]
  },
  {
   "cell_type": "code",
   "execution_count": 35,
   "id": "2c373929",
   "metadata": {},
   "outputs": [],
   "source": [
    "### Reduce samples to columns necessary for chart, “prices” and “orders_day_of_week\n",
    "small2 = small[['orders_day_of_week','prices']]"
   ]
  },
  {
   "cell_type": "code",
   "execution_count": 36,
   "id": "f7eeff2c",
   "metadata": {},
   "outputs": [
    {
     "data": {
      "image/png": "[encoded data removed]",
      "text/plain": [
       "<Figure size 640x480 with 1 Axes>"
      ]
     },
     "metadata": {},
     "output_type": "display_data"
    }
   ],
   "source": [
    "### Creating line graph using small2\n",
    "line = sns.lineplot(data = small2, x = 'orders_day_of_week',y = 'prices')"
   ]
  },
  {
   "cell_type": "code",
   "execution_count": null,
   "id": "e1c772e6",
   "metadata": {},
   "outputs": [],
   "source": []
  }
 ],
 "metadata": {
  "kernelspec": {
   "display_name": "Python 3 (ipykernel)",
   "language": "python",
   "name": "python3"
  },
  "language_info": {
   "codemirror_mode": {
    "name": "ipython",
    "version": 3
   },
   "file_extension": ".py",
   "mimetype": "text/x-python",
   "name": "python",
   "nbconvert_exporter": "python",
   "pygments_lexer": "ipython3",
   "version": "3.11.4"
  }
 },
 "nbformat": 4,
 "nbformat_minor": 5
}
